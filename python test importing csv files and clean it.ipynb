{
 "cells": [
  {
   "cell_type": "markdown",
   "id": "d452a28d-d852-4737-ba28-297286eb9d87",
   "metadata": {},
   "source": [
    "# Practice Exercise: Cleaning data & Transforming columns/features"
   ]
  },
  {
   "cell_type": "markdown",
   "id": "b03ae2ec-b086-4929-982b-1840c4dbdb55",
   "metadata": {},
   "source": [
    "# Context:"
   ]
  },
  {
   "cell_type": "markdown",
   "id": "2e0e7e2d-ae77-46e6-bd55-e91bd5bc513f",
   "metadata": {},
   "source": [
    "* The data is based on real anonymized Czech bank transactions and account info.\n",
    "* We'll be focusing on practicing the data cleaning, columns transformations, and other techniques that we've learned in the course.\n",
    "* But here is the original task description of the dataset publishers:"
   ]
  },
  {
   "cell_type": "markdown",
   "id": "05dd6af5-e541-41da-8237-0ba4ee6838be",
   "metadata": {},
   "source": [
    "The bank wants to improve their services. For instance, the bank managers have only vague idea, who is a good client (whom to offer some additional services) and who is a bad client (whom to watch carefully to minimize the bank losses). Fortunately, the bank stores data about their clients, the accounts (transactions within several months), the loans already granted, the credit cards issued. The bank managers hope to improve their understanding of customers and seek specific actions to improve services."
   ]
  },
  {
   "cell_type": "markdown",
   "id": "a9efaff9-d103-4a7e-b91e-36319f760d93",
   "metadata": {},
   "source": [
    "* We've made minor changes on the data to fit this exercise, such as changing the column names. Check out the original source if you are interested in using this data for other purposes (https://data.world/lpetrocelli/czech-financial-dataset-real-anonymized-transactions)"
   ]
  },
  {
   "cell_type": "markdown",
   "id": "54d28fa7-46a2-4914-b8f0-0b9f3a0f18d9",
   "metadata": {},
   "source": [
    "# Dataset Description:"
   ]
  },
  {
   "cell_type": "markdown",
   "id": "cc083880-14c0-4454-af46-f08c958b16a7",
   "metadata": {},
   "source": [
    "We'll work on three datasets (in three separate csv files):"
   ]
  },
  {
   "cell_type": "markdown",
   "id": "06c33cb7-38dc-4794-9a17-d27b0935ca9b",
   "metadata": {},
   "source": [
    "* account: each record describes static characteristics of an account\n",
    "* transaction: each record describes one transaction on an account\n",
    "* district: each record describes demographic characteristics of a district"
   ]
  },
  {
   "cell_type": "markdown",
   "id": "2711ba13-71f8-482f-9d66-5796cd9bdc50",
   "metadata": {},
   "source": [
    "In reality, the organizations like banks often have data stored in multiple datasets. Assume we want to study the transactional level data, we'll need to combine these three datasets together to have transactions data with account and district data."
   ]
  },
  {
   "cell_type": "markdown",
   "id": "59dc74e2-0c72-4001-9536-bf01ef167bf8",
   "metadata": {},
   "source": [
    "# Objective:"
   ]
  },
  {
   "cell_type": "markdown",
   "id": "72992c0b-6739-4978-a9b9-fd1498e2bd59",
   "metadata": {},
   "source": [
    "* Examine/clean the individual dataset\n",
    "* Combine them into a single dataset, which is subject to more cleaning\n",
    "* Create new columns based on existing columns"
   ]
  },
  {
   "cell_type": "markdown",
   "id": "04bd59db-d107-4cea-b260-3354bf8c848f",
   "metadata": {},
   "source": [
    "By the end, the new dataset is ready for more analysis."
   ]
  },
  {
   "cell_type": "markdown",
   "id": "60b3082e-3826-4e34-beef-e1c85d4aecc8",
   "metadata": {},
   "source": [
    "# 1. Import the libraries"
   ]
  },
  {
   "cell_type": "code",
   "execution_count": 4,
   "id": "9d1190ea-fc6c-4b27-9031-3fb799a78df0",
   "metadata": {},
   "outputs": [],
   "source": [
    "import numpy as np\n",
    "import pandas as pd"
   ]
  },
  {
   "cell_type": "markdown",
   "id": "9f3dd249-ebbf-402f-8860-3fca7f54bad3",
   "metadata": {},
   "source": [
    "# 2. Import the data from three csv files as DataFrames account, district, trans"
   ]
  },
  {
   "cell_type": "markdown",
   "id": "ccf51737-52e1-49b9-afb5-49192c0c8f89",
   "metadata": {},
   "source": [
    "Hint:\n",
    "\n",
    "* the read_csv function can automatically infer and load zip file, read its documentation of parameter compression if you are interested in details\n",
    "* you may ignore the warning when reading the trans.csv.zip file. It is optional to follow the warning instructions to remove it."
   ]
  },
  {
   "cell_type": "code",
   "execution_count": 6,
   "id": "5b441524-167e-41c6-82fb-916dc6428d81",
   "metadata": {},
   "outputs": [
    {
     "data": {
      "text/html": [
       "<div>\n",
       "<style scoped>\n",
       "    .dataframe tbody tr th:only-of-type {\n",
       "        vertical-align: middle;\n",
       "    }\n",
       "\n",
       "    .dataframe tbody tr th {\n",
       "        vertical-align: top;\n",
       "    }\n",
       "\n",
       "    .dataframe thead th {\n",
       "        text-align: right;\n",
       "    }\n",
       "</style>\n",
       "<table border=\"1\" class=\"dataframe\">\n",
       "  <thead>\n",
       "    <tr style=\"text-align: right;\">\n",
       "      <th></th>\n",
       "      <th>trans_id</th>\n",
       "      <th>account_id</th>\n",
       "      <th>date</th>\n",
       "      <th>type</th>\n",
       "      <th>operation</th>\n",
       "      <th>amount</th>\n",
       "      <th>balance</th>\n",
       "      <th>k_symbol</th>\n",
       "      <th>bank</th>\n",
       "      <th>account</th>\n",
       "    </tr>\n",
       "  </thead>\n",
       "  <tbody>\n",
       "    <tr>\n",
       "      <th>0</th>\n",
       "      <td>695247</td>\n",
       "      <td>2378</td>\n",
       "      <td>1/1/1993</td>\n",
       "      <td>PRIJEM</td>\n",
       "      <td>VKLAD</td>\n",
       "      <td>700.0</td>\n",
       "      <td>700.0</td>\n",
       "      <td>NaN</td>\n",
       "      <td>NaN</td>\n",
       "      <td>NaN</td>\n",
       "    </tr>\n",
       "    <tr>\n",
       "      <th>1</th>\n",
       "      <td>171812</td>\n",
       "      <td>576</td>\n",
       "      <td>1/1/1993</td>\n",
       "      <td>PRIJEM</td>\n",
       "      <td>VKLAD</td>\n",
       "      <td>900.0</td>\n",
       "      <td>900.0</td>\n",
       "      <td>NaN</td>\n",
       "      <td>NaN</td>\n",
       "      <td>NaN</td>\n",
       "    </tr>\n",
       "    <tr>\n",
       "      <th>2</th>\n",
       "      <td>207264</td>\n",
       "      <td>704</td>\n",
       "      <td>1/1/1993</td>\n",
       "      <td>PRIJEM</td>\n",
       "      <td>VKLAD</td>\n",
       "      <td>1000.0</td>\n",
       "      <td>1000.0</td>\n",
       "      <td>NaN</td>\n",
       "      <td>NaN</td>\n",
       "      <td>NaN</td>\n",
       "    </tr>\n",
       "    <tr>\n",
       "      <th>3</th>\n",
       "      <td>1117247</td>\n",
       "      <td>3818</td>\n",
       "      <td>1/1/1993</td>\n",
       "      <td>PRIJEM</td>\n",
       "      <td>VKLAD</td>\n",
       "      <td>600.0</td>\n",
       "      <td>600.0</td>\n",
       "      <td>NaN</td>\n",
       "      <td>NaN</td>\n",
       "      <td>NaN</td>\n",
       "    </tr>\n",
       "    <tr>\n",
       "      <th>4</th>\n",
       "      <td>579373</td>\n",
       "      <td>1972</td>\n",
       "      <td>1/2/1993</td>\n",
       "      <td>PRIJEM</td>\n",
       "      <td>VKLAD</td>\n",
       "      <td>400.0</td>\n",
       "      <td>400.0</td>\n",
       "      <td>NaN</td>\n",
       "      <td>NaN</td>\n",
       "      <td>NaN</td>\n",
       "    </tr>\n",
       "    <tr>\n",
       "      <th>...</th>\n",
       "      <td>...</td>\n",
       "      <td>...</td>\n",
       "      <td>...</td>\n",
       "      <td>...</td>\n",
       "      <td>...</td>\n",
       "      <td>...</td>\n",
       "      <td>...</td>\n",
       "      <td>...</td>\n",
       "      <td>...</td>\n",
       "      <td>...</td>\n",
       "    </tr>\n",
       "    <tr>\n",
       "      <th>1048570</th>\n",
       "      <td>1106561</td>\n",
       "      <td>3779</td>\n",
       "      <td>12/19/1998</td>\n",
       "      <td>VYDAJ</td>\n",
       "      <td>VYBER</td>\n",
       "      <td>12200.0</td>\n",
       "      <td>59783.7</td>\n",
       "      <td>NaN</td>\n",
       "      <td>NaN</td>\n",
       "      <td>NaN</td>\n",
       "    </tr>\n",
       "    <tr>\n",
       "      <th>1048571</th>\n",
       "      <td>1109169</td>\n",
       "      <td>3787</td>\n",
       "      <td>12/19/1998</td>\n",
       "      <td>VYDAJ</td>\n",
       "      <td>VYBER</td>\n",
       "      <td>2600.0</td>\n",
       "      <td>81497.4</td>\n",
       "      <td>NaN</td>\n",
       "      <td>NaN</td>\n",
       "      <td>NaN</td>\n",
       "    </tr>\n",
       "    <tr>\n",
       "      <th>1048572</th>\n",
       "      <td>1109971</td>\n",
       "      <td>3789</td>\n",
       "      <td>12/19/1998</td>\n",
       "      <td>VYBER</td>\n",
       "      <td>VYBER</td>\n",
       "      <td>4900.0</td>\n",
       "      <td>44784.0</td>\n",
       "      <td>NaN</td>\n",
       "      <td>NaN</td>\n",
       "      <td>NaN</td>\n",
       "    </tr>\n",
       "    <tr>\n",
       "      <th>1048573</th>\n",
       "      <td>1110516</td>\n",
       "      <td>3791</td>\n",
       "      <td>12/19/1998</td>\n",
       "      <td>VYDAJ</td>\n",
       "      <td>VYBER</td>\n",
       "      <td>23500.0</td>\n",
       "      <td>60146.1</td>\n",
       "      <td>NaN</td>\n",
       "      <td>NaN</td>\n",
       "      <td>NaN</td>\n",
       "    </tr>\n",
       "    <tr>\n",
       "      <th>1048574</th>\n",
       "      <td>1110008</td>\n",
       "      <td>3789</td>\n",
       "      <td>12/19/1998</td>\n",
       "      <td>VYDAJ</td>\n",
       "      <td>VYBER</td>\n",
       "      <td>11100.0</td>\n",
       "      <td>33684.0</td>\n",
       "      <td>NaN</td>\n",
       "      <td>NaN</td>\n",
       "      <td>NaN</td>\n",
       "    </tr>\n",
       "  </tbody>\n",
       "</table>\n",
       "<p>1048575 rows × 10 columns</p>\n",
       "</div>"
      ],
      "text/plain": [
       "         trans_id  account_id        date    type operation   amount  balance  \\\n",
       "0          695247        2378    1/1/1993  PRIJEM     VKLAD    700.0    700.0   \n",
       "1          171812         576    1/1/1993  PRIJEM     VKLAD    900.0    900.0   \n",
       "2          207264         704    1/1/1993  PRIJEM     VKLAD   1000.0   1000.0   \n",
       "3         1117247        3818    1/1/1993  PRIJEM     VKLAD    600.0    600.0   \n",
       "4          579373        1972    1/2/1993  PRIJEM     VKLAD    400.0    400.0   \n",
       "...           ...         ...         ...     ...       ...      ...      ...   \n",
       "1048570   1106561        3779  12/19/1998   VYDAJ     VYBER  12200.0  59783.7   \n",
       "1048571   1109169        3787  12/19/1998   VYDAJ     VYBER   2600.0  81497.4   \n",
       "1048572   1109971        3789  12/19/1998   VYBER     VYBER   4900.0  44784.0   \n",
       "1048573   1110516        3791  12/19/1998   VYDAJ     VYBER  23500.0  60146.1   \n",
       "1048574   1110008        3789  12/19/1998   VYDAJ     VYBER  11100.0  33684.0   \n",
       "\n",
       "        k_symbol bank  account  \n",
       "0            NaN  NaN      NaN  \n",
       "1            NaN  NaN      NaN  \n",
       "2            NaN  NaN      NaN  \n",
       "3            NaN  NaN      NaN  \n",
       "4            NaN  NaN      NaN  \n",
       "...          ...  ...      ...  \n",
       "1048570      NaN  NaN      NaN  \n",
       "1048571      NaN  NaN      NaN  \n",
       "1048572      NaN  NaN      NaN  \n",
       "1048573      NaN  NaN      NaN  \n",
       "1048574      NaN  NaN      NaN  \n",
       "\n",
       "[1048575 rows x 10 columns]"
      ]
     },
     "execution_count": 6,
     "metadata": {},
     "output_type": "execute_result"
    }
   ],
   "source": [
    "df = pd.read_csv('account.csv')\n",
    "df = pd.read_csv('district.csv')\n",
    "df = pd.read_csv('trans.csv')\n",
    "df"
   ]
  },
  {
   "cell_type": "markdown",
   "id": "ab623c2c-14c2-4736-85ec-8f6a1deb7c23",
   "metadata": {},
   "source": [
    "# 3. Look at the info summary, head of each DataFrame"
   ]
  },
  {
   "cell_type": "code",
   "execution_count": null,
   "id": "cdde6011-05c1-43ea-a152-0048602073dd",
   "metadata": {
    "scrolled": true
   },
   "outputs": [],
   "source": []
  },
  {
   "cell_type": "markdown",
   "id": "3f46bcb3-1d76-40b0-b689-34658b2ede44",
   "metadata": {},
   "source": [
    "# 4. Check for the unique values and their counts in each column for the three DataFrames"
   ]
  },
  {
   "cell_type": "code",
   "execution_count": null,
   "id": "a663ef6d-4c49-4604-b13e-7825e8865fb1",
   "metadata": {},
   "outputs": [],
   "source": []
  },
  {
   "cell_type": "markdown",
   "id": "98359f76-0f60-4540-b30a-9a4497a90d16",
   "metadata": {},
   "source": [
    "# 5. Check for duplicates in the three DataFrames"
   ]
  },
  {
   "cell_type": "code",
   "execution_count": null,
   "id": "b43a53cf-0ad0-41fd-9aef-d9753e9686a8",
   "metadata": {},
   "outputs": [],
   "source": []
  },
  {
   "cell_type": "markdown",
   "id": "e6a0c956-1eef-4590-9286-ec1db1525891",
   "metadata": {},
   "source": [
    "# 6. Convert column account_open_date in account and column date in trans into datetime dtypes"
   ]
  },
  {
   "cell_type": "code",
   "execution_count": null,
   "id": "4589827e-7020-4fd2-b385-4860483c5114",
   "metadata": {
    "scrolled": true
   },
   "outputs": [],
   "source": []
  },
  {
   "cell_type": "markdown",
   "id": "47fe9767-de2a-4014-b7bf-810c57e386e8",
   "metadata": {},
   "source": [
    "# 7. Convert the columns region and district_name in district to all uppercase"
   ]
  },
  {
   "cell_type": "code",
   "execution_count": null,
   "id": "d0f706af-9d65-4444-9080-c04a38bf08a0",
   "metadata": {},
   "outputs": [],
   "source": []
  },
  {
   "cell_type": "markdown",
   "id": "cc426ece-7b4b-4aab-9e0d-cde519d3dd70",
   "metadata": {},
   "source": [
    "# 8. Check for missing data by columns in account using the isna method"
   ]
  },
  {
   "cell_type": "code",
   "execution_count": null,
   "id": "24d6b069-ef73-436a-a239-0b7e9d1ed68f",
   "metadata": {},
   "outputs": [],
   "source": []
  },
  {
   "cell_type": "markdown",
   "id": "0b4da618-a6c3-4e64-9bbc-84542d9c9e94",
   "metadata": {},
   "source": [
    "# 9. Check for missing data by columns in district using the isna method"
   ]
  },
  {
   "cell_type": "code",
   "execution_count": null,
   "id": "0ff66151-a868-400e-aee1-be58dc1702ef",
   "metadata": {},
   "outputs": [],
   "source": []
  },
  {
   "cell_type": "markdown",
   "id": "15329198-10e4-4c97-91ec-20002feff9bb",
   "metadata": {},
   "source": [
    " district has numeric features that could have relationships with each other. Let's use iterative imputation on them.\n",
    "\n",
    "Use IterativeImputer in sklearn to impute based on columns population, average_salary, unemployment_rate, num_committed_crimes"
   ]
  },
  {
   "cell_type": "markdown",
   "id": "9365fe10-7ac3-4e2e-9e03-14b97d9214fa",
   "metadata": {},
   "source": [
    "Import libraries"
   ]
  },
  {
   "cell_type": "code",
   "execution_count": null,
   "id": "1ea42aa3-3829-4a47-964a-d55adbf2dcc4",
   "metadata": {},
   "outputs": [
    {
     "name": "stdout",
     "output_type": "stream",
     "text": [
      "<class 'pandas.core.frame.DataFrame'>\n",
      "RangeIndex: 1048575 entries, 0 to 1048574\n",
      "Data columns (total 10 columns):\n",
      " #   Column      Non-Null Count    Dtype  \n",
      "---  ------      --------------    -----  \n",
      " 0   trans_id    1048575 non-null  int64  \n",
      " 1   account_id  1048575 non-null  int64  \n",
      " 2   date        1048575 non-null  object \n",
      " 3   type        1048575 non-null  object \n",
      " 4   operation   869912 non-null   object \n",
      " 5   amount      1048575 non-null  float64\n",
      " 6   balance     1048575 non-null  float64\n",
      " 7   k_symbol    569929 non-null   object \n",
      " 8   bank        273508 non-null   object \n",
      " 9   account     295002 non-null   float64\n",
      "dtypes: float64(3), int64(2), object(5)\n",
      "memory usage: 80.0+ MB\n"
     ]
    }
   ],
   "source": [
    "df.info()\n",
    "df.mean()\n",
    "df.max()"
   ]
  },
  {
   "cell_type": "markdown",
   "id": "3b61598e-4a2d-40f0-9221-4a4242b6d94f",
   "metadata": {},
   "source": [
    "Build a list of columns that will be used for imputation, which are population, average_salary, unemployment_rate, num_committed_crimes\n",
    "These are the columns that might be related to each other\n",
    "\n"
   ]
  },
  {
   "cell_type": "code",
   "execution_count": null,
   "id": "6d7d177e-6bf3-4b97-8d72-d16dc55d7fb0",
   "metadata": {},
   "outputs": [],
   "source": []
  },
  {
   "cell_type": "markdown",
   "id": "8b3c6228-bda0-43df-bb62-445a83ba1c01",
   "metadata": {},
   "source": [
    "Create IterativeImputer object and set its min_value and max_value parameters to be the minumum and maximum of corresponding columns"
   ]
  },
  {
   "cell_type": "code",
   "execution_count": null,
   "id": "2c2450c4-0913-44c8-8d1c-15ae694d42f2",
   "metadata": {},
   "outputs": [],
   "source": []
  },
  {
   "cell_type": "markdown",
   "id": "be421932-af44-4fcd-87d5-8f130f4e6a17",
   "metadata": {},
   "source": [
    "Apply the imputer to fit and transform the columns to an imputed NumPy array"
   ]
  },
  {
   "cell_type": "code",
   "execution_count": null,
   "id": "383c8da7-7645-45b4-88f9-13b6ff9925c9",
   "metadata": {},
   "outputs": [],
   "source": []
  },
  {
   "cell_type": "markdown",
   "id": "e8544c66-fd63-44a7-89e2-d55c40eadc14",
   "metadata": {},
   "source": [
    "Assign the imputed array back to the original DataFrame's columns"
   ]
  },
  {
   "cell_type": "code",
   "execution_count": null,
   "id": "5d754123-8fba-4634-802d-6fb86537b9aa",
   "metadata": {},
   "outputs": [],
   "source": []
  },
  {
   "cell_type": "markdown",
   "id": "7ac3626b-aed0-423a-9c21-274eab9b559b",
   "metadata": {},
   "source": [
    "Double check that the columns are imputed"
   ]
  },
  {
   "cell_type": "code",
   "execution_count": null,
   "id": "965b9cb5-ad0e-4dfc-b502-064418ea5439",
   "metadata": {},
   "outputs": [],
   "source": []
  },
  {
   "cell_type": "markdown",
   "id": "19f78f7d-41d5-4fda-bed3-5c7c4d041fe6",
   "metadata": {},
   "source": [
    "10. Check for missing data by columns in trans using the isna method"
   ]
  },
  {
   "cell_type": "code",
   "execution_count": null,
   "id": "82a10cd0-6e8b-478e-bd7f-f5df883b5df2",
   "metadata": {},
   "outputs": [],
   "source": []
  },
  {
   "cell_type": "markdown",
   "id": "62b409dd-48e0-4992-8adc-ea597f7fac6d",
   "metadata": {},
   "source": [
    "Divide the columns into numeric columns and categorical columns, then use the fillna method to fill numeric columns with -999, fill categorical columns with 'UNKNOWN'"
   ]
  },
  {
   "cell_type": "code",
   "execution_count": null,
   "id": "80be273e-f0f9-4f25-9e85-49b500ddc87f",
   "metadata": {},
   "outputs": [],
   "source": []
  },
  {
   "cell_type": "markdown",
   "id": "5977b8b0-46b7-40db-bbac-ecf7da25903e",
   "metadata": {},
   "source": [
    "# 11. Check for outliers in district using the describe method, then look at the histograms of the suspicious columns"
   ]
  },
  {
   "cell_type": "code",
   "execution_count": null,
   "id": "6bd12999-fcdf-4e88-a5fb-c5f9dd973260",
   "metadata": {},
   "outputs": [],
   "source": []
  },
  {
   "cell_type": "markdown",
   "id": "b68fba63-4bf9-4fd4-8933-ce9f85432036",
   "metadata": {},
   "source": [
    "Explore the outliers in the dataset\n"
   ]
  },
  {
   "cell_type": "code",
   "execution_count": null,
   "id": "0aa3ebec-827f-4ea0-8713-c3cf67e2dcb2",
   "metadata": {},
   "outputs": [],
   "source": []
  },
  {
   "cell_type": "markdown",
   "id": "f603c54f-23f8-48dc-b5bb-98286d71e978",
   "metadata": {},
   "source": [
    "# 12. Check for outliers in trans using the describe method, then look at the histograms of the suspicious columns"
   ]
  },
  {
   "cell_type": "code",
   "execution_count": null,
   "id": "4db63acd-a536-41e2-a82d-bf615575ba7a",
   "metadata": {},
   "outputs": [],
   "source": []
  },
  {
   "cell_type": "markdown",
   "id": "b8289bf4-455a-421a-94da-4144b0f3ceba",
   "metadata": {},
   "source": [
    "Explore the outliers in the dataset"
   ]
  },
  {
   "cell_type": "code",
   "execution_count": null,
   "id": "37a352a1-c3b9-4d28-8cc8-b71db67d384e",
   "metadata": {},
   "outputs": [],
   "source": []
  },
  {
   "cell_type": "markdown",
   "id": "6fc09c2a-9d77-46ea-8356-b4aaaa5ac3d6",
   "metadata": {},
   "source": [
    "The DataFrame account doesn't have any columns that could have outliers, so we are not exploring it.\n",
    "\n"
   ]
  },
  {
   "cell_type": "code",
   "execution_count": null,
   "id": "667616a2-ea5e-4f8c-be36-b1585fd229e4",
   "metadata": {},
   "outputs": [],
   "source": []
  },
  {
   "cell_type": "markdown",
   "id": "04ce62bb-5a60-4067-ab74-8a1838c2980f",
   "metadata": {},
   "source": [
    "# 13. Merge (left join) account and district into a new DataFrame called account_district using their common columns"
   ]
  },
  {
   "cell_type": "code",
   "execution_count": null,
   "id": "6931c68d-58ff-4d63-9826-6943c43836fa",
   "metadata": {},
   "outputs": [],
   "source": []
  },
  {
   "cell_type": "markdown",
   "id": "2f2e31fb-0fdd-4cd2-b77f-8bfc505da7f9",
   "metadata": {},
   "source": [
    "# 14. Check the information summary of account_district, any missing data?"
   ]
  },
  {
   "cell_type": "code",
   "execution_count": null,
   "id": "31d647a4-bbb2-4653-9ce0-c0d1f5fecf19",
   "metadata": {},
   "outputs": [],
   "source": []
  },
  {
   "cell_type": "markdown",
   "id": "37795c04-dfff-46b3-a4ff-e58d2e291744",
   "metadata": {},
   "source": [
    "Look at the rows with missing data in account_district\n"
   ]
  },
  {
   "cell_type": "code",
   "execution_count": null,
   "id": "4b367994-4dd3-478e-831c-29cc968302ae",
   "metadata": {},
   "outputs": [],
   "source": []
  },
  {
   "cell_type": "markdown",
   "id": "f8063f26-8044-44f3-a87f-f4a79995fafe",
   "metadata": {},
   "source": [
    "Use SimpleImputer from sklearn to impute the missing data in columns population, average_salary, unemployment_rate, num_committed_crimes with their means"
   ]
  },
  {
   "cell_type": "code",
   "execution_count": null,
   "id": "fb4b29bd-3ec8-419d-b5d3-e24c7bcc589c",
   "metadata": {},
   "outputs": [],
   "source": []
  },
  {
   "cell_type": "markdown",
   "id": "e3024613-3cc8-423b-a2e5-c0952a2fcff4",
   "metadata": {},
   "source": [
    "Use fillna method to impute the missing data in columns district_name and region with 'UNKNOWN'\n"
   ]
  },
  {
   "cell_type": "code",
   "execution_count": null,
   "id": "6152b630-0e2f-42d1-8e3c-18b4f58ea77a",
   "metadata": {},
   "outputs": [],
   "source": []
  },
  {
   "cell_type": "markdown",
   "id": "c82e1fb0-beee-43f3-8be7-9fd855a72b6c",
   "metadata": {},
   "source": [
    "# 15. Merge (left join) trans and account_district into a new DataFrame called all_data using their common columns"
   ]
  },
  {
   "cell_type": "code",
   "execution_count": null,
   "id": "4e5789a5-a45c-42da-bd0f-d1efe3da659a",
   "metadata": {},
   "outputs": [],
   "source": []
  },
  {
   "cell_type": "markdown",
   "id": "78ae2df4-3481-499a-9b1a-fc33c072cb27",
   "metadata": {},
   "source": [
    "Check the information summary of all_data"
   ]
  },
  {
   "cell_type": "code",
   "execution_count": null,
   "id": "7a1867cf-1ba8-4376-ac2d-676855e0e88c",
   "metadata": {},
   "outputs": [],
   "source": []
  },
  {
   "cell_type": "markdown",
   "id": "0ddb323a-8d92-49e4-bad4-165ab867d874",
   "metadata": {},
   "source": [
    "# 16. Create a new column account_open_year and assign it as the year from column account_open_date\n"
   ]
  },
  {
   "cell_type": "code",
   "execution_count": null,
   "id": "8b2b9e72-6287-45bf-84c9-f842201a44e2",
   "metadata": {},
   "outputs": [],
   "source": []
  },
  {
   "cell_type": "markdown",
   "id": "a0897915-5090-496b-b249-612ad077f95a",
   "metadata": {},
   "source": [
    "# 17. Calculate the difference between columns date (transaction date) and account_open_date"
   ]
  },
  {
   "cell_type": "code",
   "execution_count": null,
   "id": "bf4fbede-59ca-461e-b294-b4caa2677994",
   "metadata": {},
   "outputs": [],
   "source": []
  },
  {
   "cell_type": "markdown",
   "id": "cebcec67-6422-46cb-8a93-910f0ddfa24b",
   "metadata": {},
   "source": [
    "# 18. Create a new column account_age_days and assign it as the difference in days between columns date (transaction date) and account_open_date"
   ]
  },
  {
   "cell_type": "code",
   "execution_count": null,
   "id": "fe54f686-7d8d-45ab-b659-a053bfa42db2",
   "metadata": {},
   "outputs": [],
   "source": []
  },
  {
   "cell_type": "markdown",
   "id": "96682b4d-f735-4627-a0fc-a94f7113bafc",
   "metadata": {},
   "source": [
    "# 19. Create a new column amount_category by cutting the column amount into 3 equal-sized bins, and label the bins as 'low_amount', 'medium_amount', 'high_amount'\n"
   ]
  },
  {
   "cell_type": "code",
   "execution_count": null,
   "id": "ca964810-bf26-4722-9df4-4c43dd175594",
   "metadata": {},
   "outputs": [],
   "source": []
  },
  {
   "cell_type": "markdown",
   "id": "57b3d595-36e5-45e8-bb0d-0f2e69ba12f4",
   "metadata": {},
   "source": [
    "Verify the categories and their counts in amount_category\n"
   ]
  },
  {
   "cell_type": "code",
   "execution_count": null,
   "id": "ce338bc1-265d-4ee1-b0b9-46ef6ae747f4",
   "metadata": {},
   "outputs": [],
   "source": []
  },
  {
   "cell_type": "markdown",
   "id": "c02a4617-ac7e-426a-9f4c-79c7be197daf",
   "metadata": {},
   "source": [
    "# 20. Create a new column account_age_days_category by cutting the column account_age_days into 5 equal-width bins"
   ]
  },
  {
   "cell_type": "code",
   "execution_count": null,
   "id": "5f4d8e6c-5994-4607-b59a-ce893d3fbb99",
   "metadata": {},
   "outputs": [],
   "source": []
  },
  {
   "cell_type": "markdown",
   "id": "8ffc13d6-019d-47ae-be29-e1799fe95c18",
   "metadata": {},
   "source": [
    "Verify the categories and their counts in account_age_days_category"
   ]
  },
  {
   "cell_type": "code",
   "execution_count": null,
   "id": "c1c81176-6a4a-45f6-bfb3-7af39e9c1f6d",
   "metadata": {},
   "outputs": [],
   "source": []
  },
  {
   "cell_type": "markdown",
   "id": "312b34de-1c6e-4d0b-8b8c-8e92b5b452af",
   "metadata": {},
   "source": [
    "Print out the first 20 rows of all_data to look at the newly added columns\n"
   ]
  },
  {
   "cell_type": "code",
   "execution_count": null,
   "id": "d548c72c-1e5c-442b-af1e-ebde4bfdde1b",
   "metadata": {},
   "outputs": [],
   "source": []
  },
  {
   "cell_type": "code",
   "execution_count": null,
   "id": "d34d9fb6-07cf-4195-bb0a-49737385240c",
   "metadata": {},
   "outputs": [],
   "source": []
  }
 ],
 "metadata": {
  "kernelspec": {
   "display_name": "Python 3 (ipykernel)",
   "language": "python",
   "name": "python3"
  },
  "language_info": {
   "codemirror_mode": {
    "name": "ipython",
    "version": 3
   },
   "file_extension": ".py",
   "mimetype": "text/x-python",
   "name": "python",
   "nbconvert_exporter": "python",
   "pygments_lexer": "ipython3",
   "version": "3.9.12"
  }
 },
 "nbformat": 4,
 "nbformat_minor": 5
}
